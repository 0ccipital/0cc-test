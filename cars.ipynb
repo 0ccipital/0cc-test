{
 "cells": [
  {
   "cell_type": "code",
   "execution_count": 1,
   "metadata": {},
   "outputs": [],
   "source": [
    "import math\n"
   ]
  },
  {
   "cell_type": "markdown",
   "metadata": {},
   "source": [
    "| Name  | Power  | Weight    | PWR   |\n",
    "| ----------- | ----------- | ----------- | ----------- |\n",
    "| WRX Pre   | 271 hp    | 3351 lb   | 0.081 hp/lb    |\n",
    "| Alex YF  | 274 hp    | 3443 lb   | 0.08 hp/lb    |\n",
    "| WRX Lim   | 271 hp    | 3419 lb   | 0.079 hp/lb   |\n",
    "| VW GTI    | 241 hp    | 3112 lb   | 0.077 hp/lb   |\n",
    "| Civic Si   | 200 hp   | 2952 lb   | 0.068 hp/lb   |\n",
    "| Ty CRV    | 185 hp    | 3479 lb   | 0.053 hp/lb   |\n",
    "| Steve Fit   | 117 hp    | 2595 lb   | 0.045 hp/lb   |"
   ]
  },
  {
   "cell_type": "markdown",
   "metadata": {},
   "source": [
    "# 2011 Hyundai Sonata SE 2.0T\n",
    "#### https://www.caranddriver.com/reviews/a15128581/2011-hyundai-sonata-se-20t-instrumented-test/\n",
    "#### Vehicle Type: front-engine, front-wheel-drive, 5-passenger, 4-door sedan\n",
    "\n",
    "#### PRICE AS TESTED\n",
    "#### $27,465 (base price: $24,865)\n",
    "\n",
    "#### ENGINE TYPE\n",
    "#### turbocharged and intercooled DOHC 16-valve inline-4, aluminum block and head, direct fuel injection\n",
    "#### Displacement: 122 in3, 1998 cm3\n",
    "## Power (SAE net): 274 bhp @ 6000 rpm\n",
    "## Torque (SAE net): 269 lb-ft @ 1800 rpm\n",
    "\n",
    "#### TRANSMISSION\n",
    "#### 6-speed automatic with manumatic shifting\n",
    "\n",
    "#### DIMENSIONS\n",
    "#### Wheelbase: 110.0 in\n",
    "#### Length: 189.8 in\n",
    "#### Width: 72.2 in\n",
    "#### Height: 57.9 in\n",
    "## Curb weight: 3443 lb\n",
    "\n",
    "#### C/D TEST RESULTS\n",
    "## Zero to 60 mph: 6.2 sec\n",
    "## Zero to 100 mph: 15.1 sec\n",
    "## Street start, 5-60 mph: 6.7 sec\n",
    "## Standing ¼-mile: 14.7 sec @ 99 mph\n",
    "## Top speed (governor limited): 153 mph\n",
    "## Braking, 70-0 mph: 180 ft\n",
    "## Roadholding, 300-ft-dia skidpad: 0.79 g\n",
    "\n",
    "#### FUEL ECONOMY\n",
    "#### EPA city/highway driving: 22/33 mpg\n",
    "#### C/D observed: 24 mpg"
   ]
  },
  {
   "cell_type": "markdown",
   "metadata": {},
   "source": [
    "# 2025 Honda Civic Si\n",
    "#### https://www.caranddriver.com/honda/civic-si\n",
    "#### Vehicle Type: front-engine, front-wheel-drive, 5-passenger, 4-door sedan\n",
    "\n",
    "#### PRICE\n",
    "#### Base: $31,045\n",
    "\n",
    "#### ENGINE\n",
    "#### turbocharged and intercooled DOHC 16-valve inline-4, aluminum block and head, direct fuel injection\n",
    "#### Displacement: 91 in3, 1498 cm3\n",
    "## Power: 200 hp @ 6000 rpm\n",
    "## Torque: 192 lb-ft @ 1800 rpm\n",
    "\n",
    "#### TRANSMISSION\n",
    "#### 6-speed manual\n",
    "\n",
    "#### DIMENSIONS\n",
    "#### Wheelbase: 107.7 in\n",
    "#### Length: 184.0 in\n",
    "#### Width: 70.9 in\n",
    "#### Height: 55.5 in\n",
    "#### Passenger Volume, F/R: 52/44 ft3\n",
    "#### Trunk Volume: 14 ft3\n",
    "## Weight: 2952 lbs ([Honda](https://automobiles.honda.com/civic-si-sedan/#))\n",
    "\n",
    "#### PERFORMANCE (C/D EST)\n",
    "## 60 mph: 6.6 sec\n",
    "## 1/4-Mile: 14.9 sec\n",
    "## Top Speed: 135 mph\n",
    "\n",
    "#### EPA FUEL ECONOMY\n",
    "#### Combined/City/Highway: 31/27/37 mpg"
   ]
  },
  {
   "cell_type": "markdown",
   "metadata": {},
   "source": [
    "# 2022 Volkswagen Golf GTI S\n",
    "#### https://www.caranddriver.com/volkswagen/golf-gti-2022\n",
    "#### Vehicle Type: front-engine, front-wheel-drive, 5-passenger, 4-door hatchback\n",
    "\n",
    "#### PRICE\n",
    "#### Base/As Tested: $30,540/30,935\n",
    "#### Options: Moonstone Gray paint, $395\n",
    "\n",
    "#### ENGINE\n",
    "#### turbocharged and intercooled DOHC 16-valve inline-4, iron block and aluminum head, direct fuel injection\n",
    "#### Displacement: 121 in3, 1984 cm3\n",
    "## Power: 241 hp @ 6500 rpm\n",
    "## Torque: 273 lb-ft @ 1750 rpm\n",
    "\n",
    "#### TRANSMISSION\n",
    "#### 6-speed manual\n",
    "\n",
    "#### CHASSIS\n",
    "#### Suspension, F/R: struts/multilink\n",
    "#### Brakes, F/R: 13.4-in vented disc/12.2-in vented disc\n",
    "#### OE Tires: Pirelli P Zero All Season\n",
    "#### 225/40R-18 92H M+S Extra Load AO\n",
    "\n",
    "#### DIMENSIONS\n",
    "#### Wheelbase: 103.6 in\n",
    "#### Length: 168.8 in\n",
    "#### Width: 70.4 in\n",
    "#### Height: 57.6 in\n",
    "#### Passenger Volume, F/R: 51/41 ft3\n",
    "#### Cargo Volume, Behind F/R: 35/20 ft3\n",
    "## Curb Weight: 3112 lb\n",
    "\n",
    "#### C/D TEST RESULTS\n",
    "## 60 mph: 5.8 sec\n",
    "## 100 mph: 13.9 sec\n",
    "## 1/4-Mile: 14.3 sec @ 101 mph\n",
    "## 120 mph: 20.2 sec\n",
    "## Results above omit 1-ft rollout of 0.4 sec.\n",
    "## Rolling Start, 5–60 mph: 6.2 sec\n",
    "## Top Gear, 30–50 mph: 10.0 sec\n",
    "## Top Gear, 50–70 mph: 7.1 sec\n",
    "## Top Speed (gov ltd): 127 mph\n",
    "## Braking, 70–0 mph: 169 ft\n",
    "## Braking, 100–0 mph: 342 ft\n",
    "## Roadholding, 300-ft Skidpad: 0.93 g\n",
    "\n",
    "#### C/D FUEL ECONOMY\n",
    "#### Observed: 30 mpg\n",
    "#### 75-mph Highway Driving: 37 mpg\n",
    "#### 75-mph Highway Range: 480 mi\n",
    "\n",
    "#### EPA FUEL ECONOMY\n",
    "#### Combined/City/Highway: 28/24/34 mpg "
   ]
  },
  {
   "cell_type": "markdown",
   "metadata": {},
   "source": [
    "https://www.caranddriver.com/volkswagen/golf-gti-2022\n"
   ]
  },
  {
   "cell_type": "code",
   "execution_count": null,
   "metadata": {},
   "outputs": [],
   "source": []
  },
  {
   "cell_type": "markdown",
   "metadata": {},
   "source": []
  }
 ],
 "metadata": {
  "kernelspec": {
   "display_name": "Python 3",
   "language": "python",
   "name": "python3"
  },
  "language_info": {
   "codemirror_mode": {
    "name": "ipython",
    "version": 3
   },
   "file_extension": ".py",
   "mimetype": "text/x-python",
   "name": "python",
   "nbconvert_exporter": "python",
   "pygments_lexer": "ipython3",
   "version": "3.13.5"
  }
 },
 "nbformat": 4,
 "nbformat_minor": 2
}
